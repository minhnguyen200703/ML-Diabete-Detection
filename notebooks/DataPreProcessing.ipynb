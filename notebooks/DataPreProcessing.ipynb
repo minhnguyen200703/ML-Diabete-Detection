{
 "cells": [
  {
   "cell_type": "markdown",
   "id": "063de747-af1f-4319-a7d6-d351524ea91a",
   "metadata": {},
   "source": [
    "# Step 2: Data  Cleaning and Data Processing\n",
    "\n",
    "---\n",
    "\n",
    "** Table of content\n"
   ]
  },
  {
   "cell_type": "markdown",
   "id": "a7b56089-8ecb-4ce6-91a1-c4e1afa94b2b",
   "metadata": {},
   "source": [
    "# Data Cleaning"
   ]
  },
  {
   "cell_type": "markdown",
   "id": "972f63e8-02d1-447e-a485-23169460ff10",
   "metadata": {},
   "source": [
    "### Imports and environment setup"
   ]
  },
  {
   "cell_type": "code",
   "execution_count": null,
   "id": "5747f648-721c-457d-8b62-3b69703e166e",
   "metadata": {},
   "outputs": [],
   "source": [
    "# Imports and environment setup\n",
    "\n",
    "import pandas as pd\n",
    "import numpy as np\n",
    "import matplotlib.pyplot as plt\n",
    "import seaborn as sns\n",
    "\n",
    "plt.style.use('ggplot')"
   ]
  },
  {
   "cell_type": "markdown",
   "id": "91884538-3514-4daf-a85a-c612139712df",
   "metadata": {},
   "source": [
    "### Preprocessing\n",
    "\n",
    "This is a summarize of what we have done in the EDA"
   ]
  },
  {
   "cell_type": "code",
   "execution_count": null,
   "id": "a255821b-b580-42c4-b627-f38fa5d095e7",
   "metadata": {},
   "outputs": [],
   "source": [
    "# Load datasets\n",
    "df_train = pd.read_csv(\"../data/data_train.csv\")  # Train dataset\n",
    "\n",
    "df_test = pd.read_csv(\"../data/data_test.csv\")    # Test dataset\n",
    "\n",
    "# Remove duplications (if exist)\n",
    "df_train.drop_duplicates(inplace=True)\n",
    "df_test.drop_duplicates(inplace=True)\n",
    "\n",
    "# Dropping unused columns\n",
    "df_train = df_train.drop(columns=['Id', 'HighChol', 'AnyHealthcare ', 'NoDocbcCost', 'Education'])  # Unused col\n",
    "df_test = df_test.drop(columns=['Id', 'HighChol', 'AnyHealthcare ', 'NoDocbcCost', 'Education'])    # Unused col\n",
    "\n",
    "# Remove duplications (if exist). We do this a second time because we just dropped two columns, and more duplications might show up\n",
    "df_train.drop_duplicates(inplace=True)\n",
    "df_test.drop_duplicates(inplace=True)\n",
    "\n"
   ]
  },
  {
   "cell_type": "code",
   "execution_count": null,
   "id": "b62d9a5f-2c71-47f4-851f-9ffd60a179d0",
   "metadata": {},
   "outputs": [],
   "source": []
  }
 ],
 "metadata": {
  "kernelspec": {
   "display_name": "Python 3 (ipykernel)",
   "language": "python",
   "name": "python3"
  },
  "language_info": {
   "codemirror_mode": {
    "name": "ipython",
    "version": 3
   },
   "file_extension": ".py",
   "mimetype": "text/x-python",
   "name": "python",
   "nbconvert_exporter": "python",
   "pygments_lexer": "ipython3",
   "version": "3.11.7"
  }
 },
 "nbformat": 4,
 "nbformat_minor": 5
}
