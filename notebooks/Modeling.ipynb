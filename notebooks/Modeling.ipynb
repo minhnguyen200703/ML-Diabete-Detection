{
 "cells": [
  {
   "cell_type": "code",
   "execution_count": null,
   "id": "c2ca9a57-adc7-4769-88fc-043b2e355316",
   "metadata": {},
   "outputs": [],
   "source": [
    "# Step 3: Model\n",
    "\n",
    "---\n",
    "\n",
    "** Table of content\n"
   ]
  },
  {
   "cell_type": "code",
   "execution_count": null,
   "id": "5e7f0ea8-beee-4267-aa7d-2164b8f10e0b",
   "metadata": {},
   "outputs": [],
   "source": [
    "# Model"
   ]
  },
  {
   "cell_type": "code",
   "execution_count": null,
   "id": "eadcbc7c-2137-40db-8e7f-d472541d3da0",
   "metadata": {},
   "outputs": [],
   "source": [
    "### Imports and environment setup"
   ]
  },
  {
   "cell_type": "code",
   "execution_count": 1,
   "id": "bd299503-0aba-4f0b-a47b-d62e396de25b",
   "metadata": {},
   "outputs": [],
   "source": [
    "# Imports and environment setup\n",
    "\n",
    "import pandas as pd\n",
    "import numpy as np\n",
    "import matplotlib.pyplot as plt\n",
    "import seaborn as sns\n",
    "from sklearn.preprocessing import StandardScaler\n",
    "\n",
    "\n",
    "plt.style.use('ggplot')\n",
    "\n"
   ]
  },
  {
   "cell_type": "code",
   "execution_count": null,
   "id": "e89572dd-406e-4e37-85c0-3664fdbf7355",
   "metadata": {},
   "outputs": [],
   "source": []
  },
  {
   "cell_type": "code",
   "execution_count": null,
   "id": "5325b4c3-23ea-4877-acea-9767f87e8be9",
   "metadata": {},
   "outputs": [],
   "source": []
  }
 ],
 "metadata": {
  "kernelspec": {
   "display_name": "Python 3 (ipykernel)",
   "language": "python",
   "name": "python3"
  },
  "language_info": {
   "codemirror_mode": {
    "name": "ipython",
    "version": 3
   },
   "file_extension": ".py",
   "mimetype": "text/x-python",
   "name": "python",
   "nbconvert_exporter": "python",
   "pygments_lexer": "ipython3",
   "version": "3.11.7"
  }
 },
 "nbformat": 4,
 "nbformat_minor": 5
}
