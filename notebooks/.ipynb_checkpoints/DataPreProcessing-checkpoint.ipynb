{
 "cells": [
  {
   "cell_type": "markdown",
   "id": "063de747-af1f-4319-a7d6-d351524ea91a",
   "metadata": {},
   "source": [
    "# Step 2: Data  Cleaning and Data Processing\n",
    "\n",
    "---\n",
    "\n",
    "** Table of content\n"
   ]
  },
  {
   "cell_type": "markdown",
   "id": "a7b56089-8ecb-4ce6-91a1-c4e1afa94b2b",
   "metadata": {},
   "source": [
    "# Data Cleaning"
   ]
  },
  {
   "cell_type": "markdown",
   "id": "972f63e8-02d1-447e-a485-23169460ff10",
   "metadata": {},
   "source": [
    "### Imports and environment setup"
   ]
  },
  {
   "cell_type": "code",
   "execution_count": 1,
   "id": "5747f648-721c-457d-8b62-3b69703e166e",
   "metadata": {},
   "outputs": [],
   "source": [
    "# Imports and environment setup\n",
    "\n",
    "import pandas as pd\n",
    "import numpy as np\n",
    "import matplotlib.pyplot as plt\n",
    "import seaborn as sns\n",
    "from sklearn.preprocessing import StandardScaler\n",
    "\n",
    "\n",
    "plt.style.use('ggplot')"
   ]
  },
  {
   "cell_type": "markdown",
   "id": "91884538-3514-4daf-a85a-c612139712df",
   "metadata": {},
   "source": [
    "### Preprocessing\n",
    "\n",
    "This is a summarize of what we have done in the EDA"
   ]
  },
  {
   "cell_type": "code",
   "execution_count": 2,
   "id": "a255821b-b580-42c4-b627-f38fa5d095e7",
   "metadata": {},
   "outputs": [
    {
     "ename": "IndentationError",
     "evalue": "unexpected indent (3964323863.py, line 55)",
     "output_type": "error",
     "traceback": [
      "\u001b[1;36m  Cell \u001b[1;32mIn[2], line 55\u001b[1;36m\u001b[0m\n\u001b[1;33m    Q1 = df.quantile(0.25)\u001b[0m\n\u001b[1;37m    ^\u001b[0m\n\u001b[1;31mIndentationError\u001b[0m\u001b[1;31m:\u001b[0m unexpected indent\n"
     ]
    }
   ],
   "source": [
    "# Load datasets\n",
    "df_train = pd.read_csv(\"../data/data_train.csv\")  # Train dataset\n",
    "\n",
    "df_test = pd.read_csv(\"../data/data_test.csv\")    # Test dataset\n",
    "\n",
    "df_train_cleaned = df_train.copy()\n",
    "df_test_cleaned = df_test.copy()\n",
    "\n",
    "# Remove duplications (if exist)\n",
    "df_train_cleaned.drop_duplicates(inplace=True)\n",
    "df_test_cleaned.drop_duplicates(inplace=True)\n",
    "\n",
    "# Dropping unused columns\n",
    "unused_columns = ['Id', 'AnyHealthcare', 'NoDocbcCost', 'Education']\n",
    "df_train_cleaned = df_train.drop(columns=unused_columns, inplace=True)  # Unused col\n",
    "df_test_cleaned = df_test.drop(columns=unused_columns, inplace=True)    # Unused col\n",
    "\n",
    "# Engineering Feature\n",
    "df_train_cleaned['BP_Chol_Interaction'] = df_train_cleaned['HighBP'] * df_train_cleaned['HighChol']\n",
    "df_train_cleaned = df_train_cleaned.drop(columns=['HighBP', 'HighChol']) # Feature engineering\n",
    "\n",
    "df_test_cleaned['BP_Chol_Interaction'] = df_test_cleaned['HighBP'] * df_test_cleaned['HighChol']\n",
    "df_test_cleaned = df_test_cleaned.drop(columns=['HighBP', 'HighChol']) # Feature engineering\n",
    "\n",
    "\n",
    "# Remove duplications (if exist). We do this a second time because we just dropped two columns, and more duplications might show up\n",
    "df_train_cleaned.drop_duplicates(inplace=True)\n",
    "df_test.drop_duplicates(inplace=True)\n",
    "\n",
    "# Convert any infinite value into NaN\n",
    "df_train_cleaned.replace([np.inf, -np.inf], np.nan, inplace=True)\n",
    "df_test.replace([np.inf, -np.inf], np.nan, inplace=True)\n",
    "\n",
    "# Convert categorical feature into category data type\n",
    "\n",
    "categorical_features = [\n",
    "    'BP_Chol_Interaction', 'Smoker', 'Stroke', 'HeartDiseaseorAttack',\n",
    "    'PhysActivity', 'Fruits', 'Veggies', 'HvyAlcoholConsump', \n",
    "    'DiffWalk', 'Sex', 'Age', 'Income'\n",
    "]\n",
    "\n",
    "for column in categorical_features:\n",
    "    df_train_cleaned[column] = df_train_cleaned[column].astype('category')\n",
    "    df_test[column] = df_test[column].astype('category')\n",
    "\n",
    "## Normalize/Standarize numerical feature\n",
    "\n",
    "scaler = StandardScaler()\n",
    "numerical_features = ['BMI', 'MentHlth', 'PhysHlth', 'GenHtlth', 'ExtraMedTest', 'ExtraAlcoholTest']\n",
    "\n",
    "scaler.fit(df_train_cleaned[numerical_features])  # Fit on training data\n",
    "\n",
    "df_train_cleaned[numerical_features] = scaler.transform(df_train_cleaned[numerical_features]) # Transform both training datasets\n",
    "df_test_cleaned[numerical_features] = scaler.transform(df_test_cleaned[numerical_features]) # Transform both test datasets\n",
    "\n",
    "# Outliers \n",
    "\n",
    "for column in numerical_features:\n",
    "    Q1 = df_train_cleaned[column].quantile(0.25)\n",
    "    Q3 = df_train_cleaned[column].quantile(0.75)\n",
    "    IQR = Q3 - Q1\n",
    "    lower_bound = Q1 - 1.5 * IQR\n",
    "    upper_bound = Q3 + 1.5 * IQR\n",
    "\n",
    "    # Filter out the outliers from each column\n",
    "    df_train_cleaned = df_train_cleaned[(df_train_cleaned[column] >= lower_bound) & (df_train_cleaned[column] <= upper_bound)]\n",
    "\n",
    "df_train_cleaned = df_train_cleaned.dropna()\n",
    "\n",
    "\n",
    "\n",
    "\n"
   ]
  },
  {
   "cell_type": "code",
   "execution_count": null,
   "id": "01256ad3-ae17-42ac-994c-a576c91edb04",
   "metadata": {},
   "outputs": [],
   "source": []
  },
  {
   "cell_type": "code",
   "execution_count": null,
   "id": "b62d9a5f-2c71-47f4-851f-9ffd60a179d0",
   "metadata": {},
   "outputs": [],
   "source": [
    "# Save the cleaned and processed data into a new file \n",
    "\n",
    "\n"
   ]
  }
 ],
 "metadata": {
  "kernelspec": {
   "display_name": "Python 3 (ipykernel)",
   "language": "python",
   "name": "python3"
  },
  "language_info": {
   "codemirror_mode": {
    "name": "ipython",
    "version": 3
   },
   "file_extension": ".py",
   "mimetype": "text/x-python",
   "name": "python",
   "nbconvert_exporter": "python",
   "pygments_lexer": "ipython3",
   "version": "3.11.7"
  }
 },
 "nbformat": 4,
 "nbformat_minor": 5
}
